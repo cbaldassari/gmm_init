{
  "nbformat": 4,
  "nbformat_minor": 0,
  "metadata": {
    "colab": {
      "name": "GMM_kmeans_5.ipynb",
      "provenance": [],
      "collapsed_sections": [],
      "authorship_tag": "ABX9TyNg9z0vU7zLHYmJHYgWaqyg",
      "include_colab_link": true
    },
    "kernelspec": {
      "display_name": "Python 3",
      "name": "python3"
    },
    "language_info": {
      "name": "python"
    }
  },
  "cells": [
    {
      "cell_type": "markdown",
      "metadata": {
        "id": "view-in-github",
        "colab_type": "text"
      },
      "source": [
        "<a href=\"https://colab.research.google.com/github/cbaldassari/gmm_init/blob/main/GMM_kmeans_5.ipynb\" target=\"_parent\"><img src=\"https://colab.research.google.com/assets/colab-badge.svg\" alt=\"Open In Colab\"/></a>"
      ]
    },
    {
      "cell_type": "code",
      "metadata": {
        "colab": {
          "base_uri": "https://localhost:8080/"
        },
        "id": "jAJr9O5WgJMm",
        "outputId": "0a9f9b20-88a2-496b-ffaa-399dbd193900"
      },
      "source": [
        "from google.colab import drive\n",
        "drive.mount('/content/drive')"
      ],
      "execution_count": null,
      "outputs": [
        {
          "output_type": "stream",
          "name": "stdout",
          "text": [
            "Mounted at /content/drive\n"
          ]
        }
      ]
    },
    {
      "cell_type": "code",
      "metadata": {
        "id": "GS96NKg75CP2"
      },
      "source": [
        "%%capture\n",
        "!pip install missingpy\n",
        "import missingpy\n",
        "from missingpy import MissForest\n",
        "import statsmodels.api as sm\n",
        "import pandas as pd\n",
        "import numpy as np\n",
        "from sklearn import mixture\n",
        "from sklearn.preprocessing import MinMaxScaler\n",
        "import matplotlib.pyplot as plt\n",
        "from scipy.stats import skew \n",
        "from scipy.stats import kurtosis\n",
        "from tqdm import tqdm\n",
        "import matplotlib.pyplot as plt"
      ],
      "execution_count": null,
      "outputs": []
    },
    {
      "cell_type": "markdown",
      "metadata": {
        "id": "CQlHkT_y9EW7"
      },
      "source": [
        "#preprocessing"
      ]
    },
    {
      "cell_type": "code",
      "metadata": {
        "colab": {
          "base_uri": "https://localhost:8080/",
          "height": 204
        },
        "id": "yWDQ84j3vjwy",
        "outputId": "6d855731-c962-4fbc-807e-48bb6419fbf9"
      },
      "source": [
        "tag_data = pd.read_csv('/content/drive/MyDrive/Mari/plotpaper2/GMMdata.csv')"
      ],
      "execution_count": null,
      "outputs": [
        {
          "output_type": "execute_result",
          "data": {
            "text/html": [
              "<div>\n",
              "<style scoped>\n",
              "    .dataframe tbody tr th:only-of-type {\n",
              "        vertical-align: middle;\n",
              "    }\n",
              "\n",
              "    .dataframe tbody tr th {\n",
              "        vertical-align: top;\n",
              "    }\n",
              "\n",
              "    .dataframe thead th {\n",
              "        text-align: right;\n",
              "    }\n",
              "</style>\n",
              "<table border=\"1\" class=\"dataframe\">\n",
              "  <thead>\n",
              "    <tr style=\"text-align: right;\">\n",
              "      <th></th>\n",
              "      <th>Date</th>\n",
              "      <th>gas</th>\n",
              "      <th>oil</th>\n",
              "      <th>spx</th>\n",
              "      <th>pjm</th>\n",
              "    </tr>\n",
              "  </thead>\n",
              "  <tbody>\n",
              "    <tr>\n",
              "      <th>0</th>\n",
              "      <td>2015-01-02</td>\n",
              "      <td>-0.033241</td>\n",
              "      <td>-0.011706</td>\n",
              "      <td>-0.000820</td>\n",
              "      <td>0.134948</td>\n",
              "    </tr>\n",
              "    <tr>\n",
              "      <th>1</th>\n",
              "      <td>2015-01-03</td>\n",
              "      <td>0.024393</td>\n",
              "      <td>-0.016112</td>\n",
              "      <td>-0.007269</td>\n",
              "      <td>0.023259</td>\n",
              "    </tr>\n",
              "    <tr>\n",
              "      <th>2</th>\n",
              "      <td>2015-01-04</td>\n",
              "      <td>0.022301</td>\n",
              "      <td>-0.034150</td>\n",
              "      <td>-0.008367</td>\n",
              "      <td>0.218619</td>\n",
              "    </tr>\n",
              "    <tr>\n",
              "      <th>3</th>\n",
              "      <td>2015-01-05</td>\n",
              "      <td>0.023783</td>\n",
              "      <td>-0.005484</td>\n",
              "      <td>-0.003760</td>\n",
              "      <td>-0.124662</td>\n",
              "    </tr>\n",
              "    <tr>\n",
              "      <th>4</th>\n",
              "      <td>2015-01-06</td>\n",
              "      <td>-0.076450</td>\n",
              "      <td>-0.043503</td>\n",
              "      <td>-0.009248</td>\n",
              "      <td>0.573400</td>\n",
              "    </tr>\n",
              "  </tbody>\n",
              "</table>\n",
              "</div>"
            ],
            "text/plain": [
              "         Date       gas       oil       spx       pjm\n",
              "0  2015-01-02 -0.033241 -0.011706 -0.000820  0.134948\n",
              "1  2015-01-03  0.024393 -0.016112 -0.007269  0.023259\n",
              "2  2015-01-04  0.022301 -0.034150 -0.008367  0.218619\n",
              "3  2015-01-05  0.023783 -0.005484 -0.003760 -0.124662\n",
              "4  2015-01-06 -0.076450 -0.043503 -0.009248  0.573400"
            ]
          },
          "metadata": {},
          "execution_count": 7
        }
      ]
    },
    {
      "cell_type": "markdown",
      "metadata": {
        "id": "2ZJFzVHXdBJj"
      },
      "source": [
        "#GRID SEARCH"
      ]
    },
    {
      "cell_type": "code",
      "metadata": {
        "id": "lBJPyQRj1x0F",
        "colab": {
          "base_uri": "https://localhost:8080/"
        },
        "outputId": "7f1a4e23-04a3-4a89-abf7-65ef9ad82377"
      },
      "source": [
        "hubnames=[\"pjm\",\"oil\",\"gas\",\"spx\"]\n",
        "\n",
        "for hub in hubnames:\n",
        "  scaler = MinMaxScaler()\n",
        "  X = scaler.fit_transform(tag_data[hub].values.reshape(-1, 1))\n",
        "  \n",
        "  trial=1000\n",
        "  size = len(X)\n",
        "  n_components=np.arange(1,31) #1:100 components\n",
        "\n",
        "  idxs=np.arange(len(n_components))\n",
        "  grid=pd.DataFrame(columns=[\"idxs\",\"hub\",\"avg2\",\"std2\",\"avg3\",\"std3\",\"avg4\",\"std4\",\"aic\",\"bic\",\"comp\",\"weights\",\"means\",\"covariances\"])\n",
        "  grid.set_index(\"idxs\")\n",
        "  \n",
        "  for components in tqdm(n_components):\n",
        "      bic=[]\n",
        "      aic=[]\n",
        "      \n",
        "      res=pd.DataFrame(columns=[\"idx\",\"first\",\"second\",\"third\",\"fourth\"])\n",
        "      res[\"idx\"]=idxs\n",
        "      res.set_index(\"idx\")\n",
        "\n",
        "      gmm = mixture.GaussianMixture(n_components=components,n_init=1000, covariance_type='full', init_params=\"kmeans\").fit(X)\n",
        "      bic=gmm.bic(X)\n",
        "      aic=gmm.aic(X) \n",
        "\n",
        "      for cnt in range(trial): \n",
        "          data_new = gmm.sample(size)\n",
        "          sample=data_new[0].reshape(-1, 1) \n",
        "          \n",
        "          descaled_sample=scaler.inverse_transform(sample)\n",
        "          samplezero=descaled_sample\n",
        "\n",
        "          item={\n",
        "                \"2\":samplezero.std(),\n",
        "                \"3\":skew(samplezero)[0],\n",
        "                \"4\":kurtosis(samplezero)[0]+3\n",
        "                }\n",
        "          \n",
        "          res.at[cnt,\"second\"]=item[\"2\"]\n",
        "          res.at[cnt,\"third\"]=item[\"3\"]\n",
        "          res.at[cnt,\"fourth\"]=item[\"4\"]\n",
        "            \n",
        "      grid.at[components,'hub']=hub\n",
        "      grid.at[components,'avg2']=res[\"second\"].mean()\n",
        "      grid.at[components,'std2']=res[\"second\"].std()\n",
        "\n",
        "      grid.at[components,'avg3']=res[\"third\"].mean()\n",
        "      grid.at[components,'std3']=res[\"third\"].std()\n",
        "\n",
        "      grid.at[components,'avg4']=res[\"fourth\"].mean()\n",
        "      grid.at[components,'std4']=res[\"fourth\"].std() \n",
        "\n",
        "      grid.at[components,'bic']=np.asarray(bic)\n",
        "      grid.at[components,'aic']=np.asarray(aic)\n",
        "      grid.at[components,'weights']=gmm.weights_\n",
        "      grid.at[components,'means']=gmm.means_\n",
        "      grid.at[components,'covariances']=gmm.covariances_\n",
        "      grid.at[components,'comp']=gmm.n_components\n",
        "\n",
        "      if (components!=gmm.n_components):\n",
        "        print(\"ERROR\")\n",
        "\n",
        "  grid.to_csv(\"/content/drive/MyDrive/Mari/20210930_kmeans_GMM_\"+hub+\".csv\")"
      ],
      "execution_count": null,
      "outputs": [
        {
          "output_type": "stream",
          "name": "stderr",
          "text": [
            "100%|██████████| 30/30 [24:56<00:00, 49.90s/it]\n",
            "100%|██████████| 30/30 [25:12<00:00, 50.40s/it]\n",
            "100%|██████████| 30/30 [23:37<00:00, 47.24s/it]\n",
            "100%|██████████| 30/30 [25:52<00:00, 51.73s/it]\n"
          ]
        }
      ]
    },
    {
      "cell_type": "markdown",
      "metadata": {
        "id": "Uef5OrbHF2Ft"
      },
      "source": [
        "#div\n"
      ]
    },
    {
      "cell_type": "code",
      "metadata": {
        "colab": {
          "base_uri": "https://localhost:8080/",
          "height": 602
        },
        "id": "hr9UKotw5eWM",
        "outputId": "bcd80fe0-1baa-498a-ebc5-e345ae3b0e51"
      },
      "source": [
        "pjm=pd.read_csv(\"/content/drive/MyDrive/Mari/20210930_kmeans_GMM_\"+\"pjm\"\"\"+\".csv\")\n",
        "\n",
        "pjm.reset_index(drop=True, inplace=True)\n",
        "pjm.set_index(\"Unnamed: 0\", inplace=True)\n",
        "ax = pjm[\"bic\"].plot(figsize=(15,8),label=\"BIC curve\")\n",
        "ax1 = pjm[\"aic\"].plot(figsize=(15,8),label=\"AIC curve\")\n",
        "plt.rcParams.update({'font.size': 18,'legend.fontsize': 12,'legend.handlelength': 1.5}) # must set in top\n",
        "#\n",
        "\n",
        "ax.xaxis.set_label_text(\"No. of components\")\n",
        "ax.legend([\"bic\",\"aic\"],loc='upper right')\n",
        "\n",
        "plt.xticks(np.arange(1,100),rotation=0)\n",
        "plt.tight_layout()\n",
        "\n",
        "ax.set_xlim([1,15])\n",
        "ax.set_xticks(np.arange(0, 30+1, 2))\n",
        "\n",
        "plt.plot(pjm.index[pjm['bic'] == pjm[\"bic\"].min()].tolist()[0],pjm[\"bic\"].min(), \"s\", c= \"blue\",label=\"BIC estim.\",marker='o', alpha=.5,markersize=22)\n",
        "plt.plot(pjm.index[pjm['aic'] == pjm[\"aic\"].min()].tolist()[0],pjm[\"aic\"].min(), \"s\",c= \"orange\",label=\"AIC estim.\",marker='o', alpha=.5,markersize=22)\n",
        "\n",
        "#plt.plot(pjm.index[pjm['comp'] == 7].tolist()[0],pjm[\"bic\"][pjm['comp'] == 7].tolist()[0], \"s\", c= \"red\",label=\"SMM estim.\", marker='X', alpha=.5,markersize=15)\n",
        "#plt.plot(pjm.index[pjm['comp'] == 7].tolist()[0],pjm[\"aic\"][pjm['comp'] == 7].tolist()[0], \"s\", c= \"red\",label=\"\", marker='X', alpha=.5,markersize=15)\n",
        "plt.legend(frameon=True, labelspacing=1, title='PJM',loc='upper right')\n",
        "\n",
        "\n",
        "plt.savefig('/content/drive/MyDrive/Mari/plotpaper2/bicaicPJMkm.pdf')  # saves the current figure\n",
        "print(pjm[\"bic\"].min())\n",
        "print(pjm[\"aic\"].min())\n",
        "\n",
        "plt.show()"
      ],
      "execution_count": null,
      "outputs": [
        {
          "output_type": "stream",
          "name": "stdout",
          "text": [
            "-5760.838969294658\n",
            "-5821.441657220841\n"
          ]
        },
        {
          "output_type": "display_data",
          "data": {
            "image/png": "[encoded data removed]",
            "text/plain": [
              "<Figure size 1080x576 with 1 Axes>"
            ]
          },
          "metadata": {
            "needs_background": "light"
          }
        }
      ]
    },
    {
      "cell_type": "code",
      "metadata": {
        "id": "aJPb5mYt0rcx"
      },
      "source": [
        "pjm"
      ],
      "execution_count": null,
      "outputs": []
    },
    {
      "cell_type": "code",
      "metadata": {
        "colab": {
          "base_uri": "https://localhost:8080/"
        },
        "id": "njNBqEHpvqBq",
        "outputId": "94d5631f-5dfa-4d04-e3c4-caf73708db85"
      },
      "source": [
        "pjm.index[pjm['aic'] == pjm[\"aic\"].min()].tolist()[0]"
      ],
      "execution_count": null,
      "outputs": [
        {
          "output_type": "execute_result",
          "data": {
            "text/plain": [
              "4"
            ]
          },
          "metadata": {},
          "execution_count": 23
        }
      ]
    },
    {
      "cell_type": "code",
      "metadata": {
        "colab": {
          "base_uri": "https://localhost:8080/",
          "height": 601
        },
        "id": "2MjgPe8mD2KE",
        "outputId": "355a9967-6f9e-448c-f822-6e95ffa279c2"
      },
      "source": [
        "gas=pd.read_csv(\"/content/drive/MyDrive/Mari/20210930_kmeans_GMM_\"+\"gas\"\"\"+\".csv\")\n",
        "\n",
        "gas.reset_index(drop=True, inplace=True)\n",
        "gas.set_index(\"Unnamed: 0\", inplace=True)\n",
        "ax = gas[\"bic\"].plot(figsize=(15,8),label=\"BIC curve\")\n",
        "ax1 = gas[\"aic\"].plot(figsize=(15,8),label=\"AIC curve\")\n",
        "plt.rcParams.update({'font.size': 18,'legend.fontsize': 12,'legend.handlelength': 1.5}) # must set in top\n",
        "\n",
        "ax.xaxis.set_label_text(\"No. of components\")\n",
        "ax.legend([\"bic\",\"aic\"])\n",
        "\n",
        "plt.xticks(np.arange(1,100),rotation=0)\n",
        "plt.tight_layout()\n",
        "ax.set_xlim([1,30])\n",
        "ax.set_xticks(np.arange(0, 30+1, 2))\n",
        "\n",
        "#ax.set_ylim([-5885,-5050])\n",
        "plt.plot(gas.index[gas['bic'] == gas[\"bic\"].min()].tolist()[0],gas[\"bic\"].min(), \"s\", c= \"blue\",label=\"BIC estim.\",marker='o', alpha=.5,markersize=22)\n",
        "plt.plot(gas.index[gas['aic'] == gas[\"aic\"].min()].tolist()[0],gas[\"aic\"].min(), \"s\", c= \"orange\",label=\"AIC estim.\",marker='o', alpha=.5,markersize=22)\n",
        "\n",
        "#plt.plot(gas.index[spx['comp'] == 7].tolist()[0],gas[\"bic\"][gas['comp'] == 7].tolist()[0], \"s\", c= \"red\",label=\"SMM estim.\", marker='X', alpha=.5,markersize=15)\n",
        "#plt.plot(gas.index[spx['comp'] == 7].tolist()[0],gas[\"aic\"][gas['comp'] == 7].tolist()[0], \"s\", c= \"red\",label=\"\", marker='X', alpha=.5,markersize=15)\n",
        "plt.legend(frameon=True, labelspacing=1, title='GAS',loc='upper right')\n",
        "\n",
        "plt.savefig('/content/drive/MyDrive/Mari/plotpaper2/bicaicGASkm.pdf')  # saves the current figure\n",
        "print(gas[\"bic\"].min())\n",
        "print(gas[\"aic\"].min())\n",
        "plt.show()"
      ],
      "execution_count": null,
      "outputs": [
        {
          "output_type": "stream",
          "name": "stdout",
          "text": [
            "-7069.411183880669\n",
            "-7137.032731332274\n"
          ]
        },
        {
          "output_type": "display_data",
          "data": {
            "image/png": "[encoded data removed]",
            "text/plain": [
              "<Figure size 1080x576 with 1 Axes>"
            ]
          },
          "metadata": {
            "needs_background": "light"
          }
        }
      ]
    },
    {
      "cell_type": "code",
      "metadata": {
        "id": "jWsLU-c338vK"
      },
      "source": [
        "gas"
      ],
      "execution_count": null,
      "outputs": []
    },
    {
      "cell_type": "code",
      "metadata": {
        "colab": {
          "base_uri": "https://localhost:8080/",
          "height": 602
        },
        "id": "B1NJO5yOEFKN",
        "outputId": "c7e684b8-9410-4e65-d35f-3470236fcb68"
      },
      "source": [
        "oil=pd.read_csv(\"/content/drive/MyDrive/Mari/20210930_kmeans_GMM_\"+\"oil\"\"\"+\".csv\")\n",
        "\n",
        "oil.reset_index(drop=True, inplace=True)\n",
        "oil.set_index(\"Unnamed: 0\", inplace=True)\n",
        "ax = oil[\"bic\"].plot(figsize=(15,8),label=\"BIC curve\")\n",
        "ax1 = oil[\"aic\"].plot(figsize=(15,8),label=\"AIC curve\")\n",
        "plt.rcParams.update({'font.size': 18,'legend.fontsize': 12,'legend.handlelength': 1.5}) # must set in top\n",
        "\n",
        "ax.xaxis.set_label_text(\"No. of components\")\n",
        "ax.legend([\"bic\",\"aic\"])\n",
        "\n",
        "plt.xticks(np.arange(1,100),rotation=0)\n",
        "plt.tight_layout()\n",
        "ax.set_xlim([1,30])\n",
        "ax.set_xticks(np.arange(0, 30+1, 2))\n",
        "\n",
        "#ax.set_ylim([-5885,-5050])\n",
        "plt.plot(oil.index[oil['bic'] == oil[\"bic\"].min()].tolist()[0],oil[\"bic\"].min(), \"s\", c= \"blue\",label=\"BIC estim.\",marker='o', alpha=.5,markersize=22)\n",
        "plt.plot(oil.index[oil['aic'] == oil[\"aic\"].min()].tolist()[0],oil[\"aic\"].min(), \"s\", c= \"orange\",label=\"AIC estim.\",marker='o', alpha=.5,markersize=22)\n",
        "\n",
        "#plt.plot(oil.index[spx['comp'] == 7].tolist()[0],oil[\"bic\"][oil['comp'] == 7].tolist()[0], \"s\", c= \"red\",label=\"SMM estim.\", marker='X', alpha=.5,markersize=15)\n",
        "#plt.plot(oil.index[spx['comp'] == 7].tolist()[0],oil[\"aic\"][oil['comp'] == 7].tolist()[0], \"s\", c= \"red\",label=\"\", marker='X', alpha=.5,markersize=15)\n",
        "plt.legend(frameon=True, labelspacing=1, title='OIL',loc='upper right')\n",
        "\n",
        "plt.savefig('/content/drive/MyDrive/Mari/plotpaper2/bicaicOILkm.pdf')  # saves the current figure\n",
        "print(oil[\"bic\"].min())\n",
        "print(oil[\"aic\"].min())\n",
        "plt.show()"
      ],
      "execution_count": null,
      "outputs": [
        {
          "output_type": "stream",
          "name": "stdout",
          "text": [
            "-3898.499434604375\n",
            "-3942.009768943232\n"
          ]
        },
        {
          "output_type": "display_data",
          "data": {
            "image/png": "[encoded data removed]",
            "text/plain": [
              "<Figure size 1080x576 with 1 Axes>"
            ]
          },
          "metadata": {
            "needs_background": "light"
          }
        }
      ]
    },
    {
      "cell_type": "code",
      "metadata": {
        "id": "B4WaosEH8-dY"
      },
      "source": [
        "oil"
      ],
      "execution_count": null,
      "outputs": []
    },
    {
      "cell_type": "code",
      "metadata": {
        "colab": {
          "base_uri": "https://localhost:8080/",
          "height": 602
        },
        "id": "jLThkV70EFGw",
        "outputId": "94d503dc-1eba-4680-a466-831777fb52df"
      },
      "source": [
        "spx=pd.read_csv(\"/content/drive/MyDrive/Mari/20210930_kmeans_GMM_\"+\"spx\"\"\"+\".csv\")\n",
        "\n",
        "spx.reset_index(drop=True, inplace=True)\n",
        "spx.set_index(\"Unnamed: 0\", inplace=True)\n",
        "ax = spx[\"bic\"].plot(figsize=(15,8),label=\"BIC curve\")\n",
        "ax1 = spx[\"aic\"].plot(figsize=(15,8),label=\"AIC curve\")\n",
        "plt.rcParams.update({'font.size': 18,'legend.fontsize': 12,'legend.handlelength': 1.5}) # must set in top\n",
        "\n",
        "ax.xaxis.set_label_text(\"No. of components\")\n",
        "#ax.legend([\"BIC\",\"AIC\"])\n",
        "\n",
        "plt.xticks(np.arange(1,100),rotation=0)\n",
        "plt.tight_layout()\n",
        "ax.set_xlim([1,30])\n",
        "#ax.set_ylim([-5885,-5050])\n",
        "ax.set_xticks(np.arange(0, 30+1, 2))\n",
        "\n",
        "plt.plot(spx.index[spx['bic'] == spx[\"bic\"].min()].tolist()[0],spx[\"bic\"].min(), \"s\", c= \"blue\",label=\"BIC estim.\",marker='o', alpha=.5,markersize=22)\n",
        "plt.plot(spx.index[spx['aic'] == spx[\"aic\"].min()].tolist()[0],spx[\"aic\"].min(), \"s\", c= \"orange\",label=\"AIC estim.\",marker='o', alpha=.5,markersize=22)\n",
        "\n",
        "#plt.plot(spx.index[spx['comp'] == 7].tolist()[0],spx[\"bic\"][spx['comp'] == 7].tolist()[0], \"s\", c= \"red\",label=\"SMM estim.\", marker='X', alpha=.5,markersize=15)\n",
        "#plt.plot(spx.index[spx['comp'] == 7].tolist()[0],spx[\"aic\"][spx['comp'] == 7].tolist()[0], \"s\", c= \"red\",label=\"\", marker='X', alpha=.5,markersize=15)\n",
        "\n",
        "plt.legend(frameon=True, labelspacing=1, title='SPX',loc='upper right')\n",
        "\n",
        "plt.savefig('/content/drive/MyDrive/Mari/plotpaper2/bicaicSPXkm.pdf')  # saves the current figure\n",
        "print(spx[\"bic\"].min())\n",
        "print(spx[\"aic\"].min())\n",
        "plt.show()\n"
      ],
      "execution_count": null,
      "outputs": [
        {
          "output_type": "stream",
          "name": "stdout",
          "text": [
            "-4400.088335692373\n",
            "-4460.691023618556\n"
          ]
        },
        {
          "output_type": "display_data",
          "data": {
            "image/png": "[encoded data removed]",
            "text/plain": [
              "<Figure size 1080x576 with 1 Axes>"
            ]
          },
          "metadata": {
            "needs_background": "light"
          }
        }
      ]
    },
    {
      "cell_type": "code",
      "metadata": {
        "id": "qVCj1tFUEFC3"
      },
      "source": [
        "spx"
      ],
      "execution_count": null,
      "outputs": []
    },
    {
      "cell_type": "code",
      "metadata": {
        "id": "TyQScYRGEE_c"
      },
      "source": [
        ""
      ],
      "execution_count": null,
      "outputs": []
    },
    {
      "cell_type": "markdown",
      "metadata": {
        "id": "KpY2IdWdmq9T"
      },
      "source": [
        "#Valutazione dei risultati della griglia"
      ]
    },
    {
      "cell_type": "code",
      "metadata": {
        "id": "I7lm_IXlu3E2"
      },
      "source": [
        "df=pd.DataFrame()"
      ],
      "execution_count": null,
      "outputs": []
    },
    {
      "cell_type": "code",
      "metadata": {
        "id": "WOs5NALM5QRE",
        "colab": {
          "base_uri": "https://localhost:8080/",
          "height": 80
        },
        "outputId": "24dcf680-b48a-46e0-8e8c-7417d25fd38b"
      },
      "source": [
        "hubnames=[\"oil\"]#\"std2\",\"std3\",\"std4\"\n",
        "df=pd.DataFrame(columns=[\"hub\",\"frac\",\"comp\",\"bic\",\"aic\",\"weights\"])\n",
        "\n",
        "for hub in hubnames:\n",
        "  grid2=pd.read_csv(\"/content/drive/MyDrive/Mari/20210930_kmeans_GMM_\"+hub+\".csv\")\n",
        "\n",
        "  itemorig={\"1\":tag_data[hub].mean(),\n",
        "        \"2\":tag_data[hub].std(),\n",
        "        \"3\":skew(tag_data[hub]),\n",
        "        \"4\":kurtosis(tag_data[hub])+3\n",
        "  }\n",
        "  fraction=2\n",
        "\n",
        "  for index, row in grid2.iterrows():\n",
        "    if (  (abs(row[\"avg2\"]-itemorig[\"2\"])< (row[\"std2\"])/fraction) and  \n",
        "          (abs(row[\"avg3\"]-itemorig[\"3\"])< (row[\"std3\"])/fraction) and  \n",
        "          (abs(row[\"avg4\"]-itemorig[\"4\"])< (row[\"std4\"])/fraction)\n",
        "        ):  \n",
        "        dictionary={\"hub\":hub,\"frac\":fraction,\n",
        "                    \"comp\":index+1,\n",
        "                    \"bic\":row[\"bic\"],\n",
        "                    \"aic\":row[\"aic\"],\n",
        "                    \"weights\":row[\"weights\"],\n",
        "                    \"means\":row[\"means\"],\n",
        "                    \"covariances\":row[\"covariances\"]}\n",
        "        df = df.append(dictionary, ignore_index=True)\n",
        "df[df[\"comp\"]==df[\"comp\"].min()]\n"
      ],
      "execution_count": null,
      "outputs": [
        {
          "output_type": "execute_result",
          "data": {
            "text/html": [
              "<div>\n",
              "<style scoped>\n",
              "    .dataframe tbody tr th:only-of-type {\n",
              "        vertical-align: middle;\n",
              "    }\n",
              "\n",
              "    .dataframe tbody tr th {\n",
              "        vertical-align: top;\n",
              "    }\n",
              "\n",
              "    .dataframe thead th {\n",
              "        text-align: right;\n",
              "    }\n",
              "</style>\n",
              "<table border=\"1\" class=\"dataframe\">\n",
              "  <thead>\n",
              "    <tr style=\"text-align: right;\">\n",
              "      <th></th>\n",
              "      <th>hub</th>\n",
              "      <th>frac</th>\n",
              "      <th>comp</th>\n",
              "      <th>bic</th>\n",
              "      <th>aic</th>\n",
              "      <th>weights</th>\n",
              "      <th>covariances</th>\n",
              "      <th>means</th>\n",
              "    </tr>\n",
              "  </thead>\n",
              "  <tbody>\n",
              "    <tr>\n",
              "      <th>0</th>\n",
              "      <td>oil</td>\n",
              "      <td>2</td>\n",
              "      <td>6</td>\n",
              "      <td>-3845.462237</td>\n",
              "      <td>-3939.120937</td>\n",
              "      <td>[0.48258929 0.06554616 0.05960549 0.19427311 0...</td>\n",
              "      <td>[[[0.0006493 ]]\\n\\n [[0.00331353]]\\n\\n [[0.007...</td>\n",
              "      <td>[[0.44640917]\\n [0.61542473]\\n [0.25897391]\\n ...</td>\n",
              "    </tr>\n",
              "  </tbody>\n",
              "</table>\n",
              "</div>"
            ],
            "text/plain": [
              "   hub  ...                                              means\n",
              "0  oil  ...  [[0.44640917]\\n [0.61542473]\\n [0.25897391]\\n ...\n",
              "\n",
              "[1 rows x 8 columns]"
            ]
          },
          "metadata": {},
          "execution_count": 30
        }
      ]
    },
    {
      "cell_type": "code",
      "metadata": {
        "id": "Og1RQSAo0YJP"
      },
      "source": [
        ""
      ],
      "execution_count": null,
      "outputs": []
    },
    {
      "cell_type": "code",
      "metadata": {
        "id": "PvYmyS0e0YGS"
      },
      "source": [
        ""
      ],
      "execution_count": null,
      "outputs": []
    },
    {
      "cell_type": "code",
      "metadata": {
        "id": "K_CE3tnS0YC9"
      },
      "source": [
        ""
      ],
      "execution_count": null,
      "outputs": []
    },
    {
      "cell_type": "code",
      "metadata": {
        "id": "uvQAOgkK0YAQ"
      },
      "source": [
        ""
      ],
      "execution_count": null,
      "outputs": []
    },
    {
      "cell_type": "code",
      "metadata": {
        "colab": {
          "base_uri": "https://localhost:8080/",
          "height": 52
        },
        "id": "99G6Lb59tVH1",
        "outputId": "054b5b76-b5a3-4d0e-98e5-9237188faa69"
      },
      "source": [
        "hub=\"gas\"\n",
        "c=25\n",
        "grid2=pd.read_csv(\"/content/drive/MyDrive/Mari/20210902_kmeans_GMM_\"+hub+\".csv\")\n",
        "\n",
        "w=grid2[\"weights\"][grid2[\"comp\"]==c].to_list()[0]\n",
        "w=w[1:-1]\n",
        "w=w.split()\n",
        "w.sort(reverse=False)\n",
        "\n",
        "l_sf_f = [round(float(s),3) for s in w]\n",
        "l_sf_f.sort(reverse=True)\n",
        "cstr=''\n",
        "for it in l_sf_f:\n",
        "  cstr+=\" \"+str(it)\n",
        "cstr"
      ],
      "execution_count": null,
      "outputs": [
        {
          "output_type": "execute_result",
          "data": {
            "application/vnd.google.colaboratory.intrinsic+json": {
              "type": "string"
            },
            "text/plain": [
              "' 0.214 0.116 0.095 0.09 0.088 0.074 0.069 0.057 0.046 0.035 0.029 0.028 0.019 0.014 0.008 0.005 0.003 0.003 0.002 0.002 0.001 0.001 0.001 0.001 0.001'"
            ]
          },
          "metadata": {},
          "execution_count": 135
        }
      ]
    },
    {
      "cell_type": "code",
      "metadata": {
        "id": "TUQEZgCKtVEa"
      },
      "source": [
        "-4450.763293\t-4340.576587"
      ],
      "execution_count": null,
      "outputs": []
    },
    {
      "cell_type": "code",
      "metadata": {
        "id": "9Qn22e1ktVAk"
      },
      "source": [
        ""
      ],
      "execution_count": null,
      "outputs": []
    },
    {
      "cell_type": "code",
      "metadata": {
        "id": "cP_tQNVGtU8w"
      },
      "source": [
        ""
      ],
      "execution_count": null,
      "outputs": []
    },
    {
      "cell_type": "code",
      "metadata": {
        "id": "mIXF8zvOtU48"
      },
      "source": [
        ""
      ],
      "execution_count": null,
      "outputs": []
    },
    {
      "cell_type": "code",
      "metadata": {
        "id": "0DSbfnF1tU1W"
      },
      "source": [
        ""
      ],
      "execution_count": null,
      "outputs": []
    },
    {
      "cell_type": "code",
      "metadata": {
        "colab": {
          "base_uri": "https://localhost:8080/"
        },
        "id": "WYXlNeDK8BB1",
        "outputId": "2437a3e1-d629-4e92-9fe6-d1e84d448fb5"
      },
      "source": [
        "hub=\"spx\"\n",
        "comp=7\n",
        "data=pd.read_csv(\"/content/drive/MyDrive/Mari/20210902_kmeans_GMM_\"+hub+\".csv\")\n",
        "itemorig={\"1\":stochastic[hub].mean(),\n",
        "      \"2\":stochastic[hub].std(),\n",
        "      \"3\":skew(stochastic[hub]),\n",
        "      \"4\":kurtosis(stochastic[hub])+3\n",
        "}\n",
        "\n",
        "print(\"&\"+str(data.loc[comp,\"avg2\"]-itemorig[\"2\"])+\"& \"+str(data.loc[comp,\"avg3\"]-itemorig[\"3\"])+\"& \"+str(data.loc[comp,\"avg4\"]-itemorig[\"4\"]))"
      ],
      "execution_count": null,
      "outputs": [
        {
          "output_type": "stream",
          "name": "stdout",
          "text": [
            "&-3.428036282533166e-06& 0.0070676488878066435& -0.13429470563006518\n"
          ]
        }
      ]
    },
    {
      "cell_type": "code",
      "metadata": {
        "colab": {
          "base_uri": "https://localhost:8080/"
        },
        "id": "1pzRsXdGo-cu",
        "outputId": "a43a69eb-1285-44a8-896e-10d64ca27073"
      },
      "source": [
        "data.loc[3,\"avg2\"]"
      ],
      "execution_count": null,
      "outputs": [
        {
          "output_type": "execute_result",
          "data": {
            "text/plain": [
              "0.15871125985140536"
            ]
          },
          "metadata": {},
          "execution_count": 69
        }
      ]
    },
    {
      "cell_type": "code",
      "metadata": {
        "colab": {
          "base_uri": "https://localhost:8080/",
          "height": 1000
        },
        "id": "ssAlQ0-nlvcC",
        "outputId": "8855b9d5-2f71-45ae-9d8c-0c508b4305a5"
      },
      "source": [
        "data"
      ],
      "execution_count": null,
      "outputs": [
        {
          "output_type": "execute_result",
          "data": {
            "text/html": [
              "<div>\n",
              "<style scoped>\n",
              "    .dataframe tbody tr th:only-of-type {\n",
              "        vertical-align: middle;\n",
              "    }\n",
              "\n",
              "    .dataframe tbody tr th {\n",
              "        vertical-align: top;\n",
              "    }\n",
              "\n",
              "    .dataframe thead th {\n",
              "        text-align: right;\n",
              "    }\n",
              "</style>\n",
              "<table border=\"1\" class=\"dataframe\">\n",
              "  <thead>\n",
              "    <tr style=\"text-align: right;\">\n",
              "      <th></th>\n",
              "      <th>Unnamed: 0</th>\n",
              "      <th>idxs</th>\n",
              "      <th>avg1</th>\n",
              "      <th>std1</th>\n",
              "      <th>avg2</th>\n",
              "      <th>std2</th>\n",
              "      <th>avg3</th>\n",
              "      <th>std3</th>\n",
              "      <th>avg4</th>\n",
              "      <th>std4</th>\n",
              "      <th>aic</th>\n",
              "      <th>bic</th>\n",
              "      <th>comp</th>\n",
              "      <th>weightscomp_1</th>\n",
              "      <th>weightscomp_5</th>\n",
              "      <th>weightscomp_10</th>\n",
              "    </tr>\n",
              "  </thead>\n",
              "  <tbody>\n",
              "    <tr>\n",
              "      <th>0</th>\n",
              "      <td>1</td>\n",
              "      <td>NaN</td>\n",
              "      <td>0.000223</td>\n",
              "      <td>0.003739</td>\n",
              "      <td>0.158995</td>\n",
              "      <td>0.002587</td>\n",
              "      <td>-0.000169</td>\n",
              "      <td>0.056432</td>\n",
              "      <td>2.992846</td>\n",
              "      <td>0.114659</td>\n",
              "      <td>-5083.871187</td>\n",
              "      <td>-5072.852516</td>\n",
              "      <td>1</td>\n",
              "      <td>1</td>\n",
              "      <td>1</td>\n",
              "      <td>1</td>\n",
              "    </tr>\n",
              "    <tr>\n",
              "      <th>1</th>\n",
              "      <td>2</td>\n",
              "      <td>NaN</td>\n",
              "      <td>0.000118</td>\n",
              "      <td>0.003560</td>\n",
              "      <td>0.158918</td>\n",
              "      <td>0.005490</td>\n",
              "      <td>0.242287</td>\n",
              "      <td>0.261162</td>\n",
              "      <td>9.119083</td>\n",
              "      <td>0.877545</td>\n",
              "      <td>-5749.418323</td>\n",
              "      <td>-5721.871647</td>\n",
              "      <td>2</td>\n",
              "      <td>2</td>\n",
              "      <td>2</td>\n",
              "      <td>2</td>\n",
              "    </tr>\n",
              "    <tr>\n",
              "      <th>2</th>\n",
              "      <td>3</td>\n",
              "      <td>NaN</td>\n",
              "      <td>0.000107</td>\n",
              "      <td>0.003906</td>\n",
              "      <td>0.159091</td>\n",
              "      <td>0.004787</td>\n",
              "      <td>-0.017272</td>\n",
              "      <td>0.213525</td>\n",
              "      <td>7.895451</td>\n",
              "      <td>0.614536</td>\n",
              "      <td>-5744.302756</td>\n",
              "      <td>-5700.228074</td>\n",
              "      <td>3</td>\n",
              "      <td>3</td>\n",
              "      <td>3</td>\n",
              "      <td>3</td>\n",
              "    </tr>\n",
              "    <tr>\n",
              "      <th>3</th>\n",
              "      <td>4</td>\n",
              "      <td>NaN</td>\n",
              "      <td>0.000249</td>\n",
              "      <td>0.003704</td>\n",
              "      <td>0.158711</td>\n",
              "      <td>0.006398</td>\n",
              "      <td>-0.015799</td>\n",
              "      <td>0.427222</td>\n",
              "      <td>12.423003</td>\n",
              "      <td>2.032801</td>\n",
              "      <td>-5820.535838</td>\n",
              "      <td>-5759.933150</td>\n",
              "      <td>4</td>\n",
              "      <td>4</td>\n",
              "      <td>4</td>\n",
              "      <td>3</td>\n",
              "    </tr>\n",
              "    <tr>\n",
              "      <th>4</th>\n",
              "      <td>5</td>\n",
              "      <td>NaN</td>\n",
              "      <td>0.000137</td>\n",
              "      <td>0.003846</td>\n",
              "      <td>0.159368</td>\n",
              "      <td>0.006181</td>\n",
              "      <td>-0.128057</td>\n",
              "      <td>0.413607</td>\n",
              "      <td>12.440622</td>\n",
              "      <td>1.571344</td>\n",
              "      <td>-5809.156821</td>\n",
              "      <td>-5732.026128</td>\n",
              "      <td>5</td>\n",
              "      <td>5</td>\n",
              "      <td>3</td>\n",
              "      <td>3</td>\n",
              "    </tr>\n",
              "    <tr>\n",
              "      <th>5</th>\n",
              "      <td>6</td>\n",
              "      <td>NaN</td>\n",
              "      <td>0.000004</td>\n",
              "      <td>0.003710</td>\n",
              "      <td>0.158943</td>\n",
              "      <td>0.006543</td>\n",
              "      <td>-0.101187</td>\n",
              "      <td>0.422728</td>\n",
              "      <td>12.547203</td>\n",
              "      <td>1.541758</td>\n",
              "      <td>-5806.691523</td>\n",
              "      <td>-5713.032823</td>\n",
              "      <td>6</td>\n",
              "      <td>6</td>\n",
              "      <td>4</td>\n",
              "      <td>3</td>\n",
              "    </tr>\n",
              "    <tr>\n",
              "      <th>6</th>\n",
              "      <td>7</td>\n",
              "      <td>NaN</td>\n",
              "      <td>0.000157</td>\n",
              "      <td>0.003798</td>\n",
              "      <td>0.159016</td>\n",
              "      <td>0.006850</td>\n",
              "      <td>-0.209468</td>\n",
              "      <td>0.557099</td>\n",
              "      <td>14.517644</td>\n",
              "      <td>3.493292</td>\n",
              "      <td>-5809.862240</td>\n",
              "      <td>-5699.675535</td>\n",
              "      <td>7</td>\n",
              "      <td>6</td>\n",
              "      <td>4</td>\n",
              "      <td>3</td>\n",
              "    </tr>\n",
              "    <tr>\n",
              "      <th>7</th>\n",
              "      <td>8</td>\n",
              "      <td>NaN</td>\n",
              "      <td>0.000246</td>\n",
              "      <td>0.003830</td>\n",
              "      <td>0.158967</td>\n",
              "      <td>0.006849</td>\n",
              "      <td>-0.191259</td>\n",
              "      <td>0.537988</td>\n",
              "      <td>14.327099</td>\n",
              "      <td>3.200077</td>\n",
              "      <td>-5814.266718</td>\n",
              "      <td>-5687.552007</td>\n",
              "      <td>8</td>\n",
              "      <td>6</td>\n",
              "      <td>4</td>\n",
              "      <td>3</td>\n",
              "    </tr>\n",
              "    <tr>\n",
              "      <th>8</th>\n",
              "      <td>9</td>\n",
              "      <td>NaN</td>\n",
              "      <td>0.000024</td>\n",
              "      <td>0.003592</td>\n",
              "      <td>0.159091</td>\n",
              "      <td>0.006947</td>\n",
              "      <td>-0.228033</td>\n",
              "      <td>0.547634</td>\n",
              "      <td>14.511947</td>\n",
              "      <td>3.304052</td>\n",
              "      <td>-5814.628061</td>\n",
              "      <td>-5671.385344</td>\n",
              "      <td>9</td>\n",
              "      <td>7</td>\n",
              "      <td>5</td>\n",
              "      <td>3</td>\n",
              "    </tr>\n",
              "    <tr>\n",
              "      <th>9</th>\n",
              "      <td>10</td>\n",
              "      <td>NaN</td>\n",
              "      <td>0.000100</td>\n",
              "      <td>0.003728</td>\n",
              "      <td>0.159025</td>\n",
              "      <td>0.006808</td>\n",
              "      <td>-0.203399</td>\n",
              "      <td>0.562441</td>\n",
              "      <td>14.531191</td>\n",
              "      <td>3.265170</td>\n",
              "      <td>-5811.248048</td>\n",
              "      <td>-5651.477326</td>\n",
              "      <td>10</td>\n",
              "      <td>8</td>\n",
              "      <td>5</td>\n",
              "      <td>4</td>\n",
              "    </tr>\n",
              "    <tr>\n",
              "      <th>10</th>\n",
              "      <td>11</td>\n",
              "      <td>NaN</td>\n",
              "      <td>-0.000090</td>\n",
              "      <td>0.003756</td>\n",
              "      <td>0.158447</td>\n",
              "      <td>0.007054</td>\n",
              "      <td>-0.214846</td>\n",
              "      <td>0.554372</td>\n",
              "      <td>14.461918</td>\n",
              "      <td>3.260440</td>\n",
              "      <td>-5813.308869</td>\n",
              "      <td>-5637.010140</td>\n",
              "      <td>11</td>\n",
              "      <td>8</td>\n",
              "      <td>5</td>\n",
              "      <td>4</td>\n",
              "    </tr>\n",
              "    <tr>\n",
              "      <th>11</th>\n",
              "      <td>12</td>\n",
              "      <td>NaN</td>\n",
              "      <td>0.000095</td>\n",
              "      <td>0.003717</td>\n",
              "      <td>0.159028</td>\n",
              "      <td>0.007143</td>\n",
              "      <td>-0.204893</td>\n",
              "      <td>0.553993</td>\n",
              "      <td>14.586998</td>\n",
              "      <td>3.321211</td>\n",
              "      <td>-5807.103372</td>\n",
              "      <td>-5614.276638</td>\n",
              "      <td>12</td>\n",
              "      <td>8</td>\n",
              "      <td>5</td>\n",
              "      <td>4</td>\n",
              "    </tr>\n",
              "    <tr>\n",
              "      <th>12</th>\n",
              "      <td>13</td>\n",
              "      <td>NaN</td>\n",
              "      <td>0.000025</td>\n",
              "      <td>0.003691</td>\n",
              "      <td>0.158981</td>\n",
              "      <td>0.007075</td>\n",
              "      <td>-0.202466</td>\n",
              "      <td>0.567109</td>\n",
              "      <td>14.565227</td>\n",
              "      <td>3.280126</td>\n",
              "      <td>-5806.232287</td>\n",
              "      <td>-5596.877547</td>\n",
              "      <td>13</td>\n",
              "      <td>8</td>\n",
              "      <td>5</td>\n",
              "      <td>4</td>\n",
              "    </tr>\n",
              "    <tr>\n",
              "      <th>13</th>\n",
              "      <td>14</td>\n",
              "      <td>NaN</td>\n",
              "      <td>0.000055</td>\n",
              "      <td>0.003719</td>\n",
              "      <td>0.158588</td>\n",
              "      <td>0.007185</td>\n",
              "      <td>-0.224172</td>\n",
              "      <td>0.536456</td>\n",
              "      <td>14.685176</td>\n",
              "      <td>3.136439</td>\n",
              "      <td>-5804.006556</td>\n",
              "      <td>-5578.123810</td>\n",
              "      <td>14</td>\n",
              "      <td>8</td>\n",
              "      <td>6</td>\n",
              "      <td>4</td>\n",
              "    </tr>\n",
              "    <tr>\n",
              "      <th>14</th>\n",
              "      <td>15</td>\n",
              "      <td>NaN</td>\n",
              "      <td>0.000041</td>\n",
              "      <td>0.003828</td>\n",
              "      <td>0.159041</td>\n",
              "      <td>0.006911</td>\n",
              "      <td>-0.215324</td>\n",
              "      <td>0.576985</td>\n",
              "      <td>14.698496</td>\n",
              "      <td>3.289838</td>\n",
              "      <td>-5801.699831</td>\n",
              "      <td>-5559.289079</td>\n",
              "      <td>15</td>\n",
              "      <td>9</td>\n",
              "      <td>6</td>\n",
              "      <td>4</td>\n",
              "    </tr>\n",
              "    <tr>\n",
              "      <th>15</th>\n",
              "      <td>16</td>\n",
              "      <td>NaN</td>\n",
              "      <td>-0.000051</td>\n",
              "      <td>0.003545</td>\n",
              "      <td>0.158823</td>\n",
              "      <td>0.007035</td>\n",
              "      <td>-0.198315</td>\n",
              "      <td>0.544266</td>\n",
              "      <td>14.474203</td>\n",
              "      <td>3.149205</td>\n",
              "      <td>-5798.148440</td>\n",
              "      <td>-5539.209682</td>\n",
              "      <td>16</td>\n",
              "      <td>10</td>\n",
              "      <td>6</td>\n",
              "      <td>4</td>\n",
              "    </tr>\n",
              "    <tr>\n",
              "      <th>16</th>\n",
              "      <td>17</td>\n",
              "      <td>NaN</td>\n",
              "      <td>0.000164</td>\n",
              "      <td>0.003647</td>\n",
              "      <td>0.158762</td>\n",
              "      <td>0.007011</td>\n",
              "      <td>-0.210318</td>\n",
              "      <td>0.567128</td>\n",
              "      <td>14.642083</td>\n",
              "      <td>3.354529</td>\n",
              "      <td>-5797.665245</td>\n",
              "      <td>-5522.198481</td>\n",
              "      <td>17</td>\n",
              "      <td>11</td>\n",
              "      <td>7</td>\n",
              "      <td>4</td>\n",
              "    </tr>\n",
              "    <tr>\n",
              "      <th>17</th>\n",
              "      <td>18</td>\n",
              "      <td>NaN</td>\n",
              "      <td>-0.000153</td>\n",
              "      <td>0.003789</td>\n",
              "      <td>0.159256</td>\n",
              "      <td>0.007067</td>\n",
              "      <td>-0.225310</td>\n",
              "      <td>0.550346</td>\n",
              "      <td>14.667534</td>\n",
              "      <td>3.222434</td>\n",
              "      <td>-5797.267548</td>\n",
              "      <td>-5505.272779</td>\n",
              "      <td>18</td>\n",
              "      <td>12</td>\n",
              "      <td>7</td>\n",
              "      <td>4</td>\n",
              "    </tr>\n",
              "    <tr>\n",
              "      <th>18</th>\n",
              "      <td>19</td>\n",
              "      <td>NaN</td>\n",
              "      <td>0.000248</td>\n",
              "      <td>0.003836</td>\n",
              "      <td>0.158849</td>\n",
              "      <td>0.006884</td>\n",
              "      <td>-0.208421</td>\n",
              "      <td>0.565271</td>\n",
              "      <td>14.618189</td>\n",
              "      <td>3.277364</td>\n",
              "      <td>-5795.556616</td>\n",
              "      <td>-5487.033841</td>\n",
              "      <td>19</td>\n",
              "      <td>12</td>\n",
              "      <td>7</td>\n",
              "      <td>4</td>\n",
              "    </tr>\n",
              "    <tr>\n",
              "      <th>19</th>\n",
              "      <td>20</td>\n",
              "      <td>NaN</td>\n",
              "      <td>-0.000208</td>\n",
              "      <td>0.003867</td>\n",
              "      <td>0.158864</td>\n",
              "      <td>0.007099</td>\n",
              "      <td>-0.221691</td>\n",
              "      <td>0.600162</td>\n",
              "      <td>14.685290</td>\n",
              "      <td>3.404265</td>\n",
              "      <td>-5792.626897</td>\n",
              "      <td>-5467.576116</td>\n",
              "      <td>20</td>\n",
              "      <td>11</td>\n",
              "      <td>6</td>\n",
              "      <td>4</td>\n",
              "    </tr>\n",
              "    <tr>\n",
              "      <th>20</th>\n",
              "      <td>21</td>\n",
              "      <td>NaN</td>\n",
              "      <td>-0.000084</td>\n",
              "      <td>0.003762</td>\n",
              "      <td>0.159054</td>\n",
              "      <td>0.007014</td>\n",
              "      <td>-0.228541</td>\n",
              "      <td>0.568018</td>\n",
              "      <td>14.693817</td>\n",
              "      <td>3.267795</td>\n",
              "      <td>-5790.104752</td>\n",
              "      <td>-5448.525966</td>\n",
              "      <td>21</td>\n",
              "      <td>12</td>\n",
              "      <td>7</td>\n",
              "      <td>4</td>\n",
              "    </tr>\n",
              "    <tr>\n",
              "      <th>21</th>\n",
              "      <td>22</td>\n",
              "      <td>NaN</td>\n",
              "      <td>-0.000032</td>\n",
              "      <td>0.003720</td>\n",
              "      <td>0.158888</td>\n",
              "      <td>0.007001</td>\n",
              "      <td>-0.226205</td>\n",
              "      <td>0.585618</td>\n",
              "      <td>14.698091</td>\n",
              "      <td>3.321650</td>\n",
              "      <td>-5785.535326</td>\n",
              "      <td>-5427.428534</td>\n",
              "      <td>22</td>\n",
              "      <td>13</td>\n",
              "      <td>9</td>\n",
              "      <td>5</td>\n",
              "    </tr>\n",
              "    <tr>\n",
              "      <th>22</th>\n",
              "      <td>23</td>\n",
              "      <td>NaN</td>\n",
              "      <td>-0.000009</td>\n",
              "      <td>0.003605</td>\n",
              "      <td>0.158804</td>\n",
              "      <td>0.006754</td>\n",
              "      <td>-0.208760</td>\n",
              "      <td>0.566893</td>\n",
              "      <td>14.653174</td>\n",
              "      <td>3.329884</td>\n",
              "      <td>-5780.773116</td>\n",
              "      <td>-5406.138318</td>\n",
              "      <td>23</td>\n",
              "      <td>14</td>\n",
              "      <td>9</td>\n",
              "      <td>3</td>\n",
              "    </tr>\n",
              "    <tr>\n",
              "      <th>23</th>\n",
              "      <td>24</td>\n",
              "      <td>NaN</td>\n",
              "      <td>-0.000128</td>\n",
              "      <td>0.003684</td>\n",
              "      <td>0.159404</td>\n",
              "      <td>0.006951</td>\n",
              "      <td>-0.242518</td>\n",
              "      <td>0.546643</td>\n",
              "      <td>14.751727</td>\n",
              "      <td>3.223938</td>\n",
              "      <td>-5780.961300</td>\n",
              "      <td>-5389.798497</td>\n",
              "      <td>24</td>\n",
              "      <td>15</td>\n",
              "      <td>8</td>\n",
              "      <td>3</td>\n",
              "    </tr>\n",
              "    <tr>\n",
              "      <th>24</th>\n",
              "      <td>25</td>\n",
              "      <td>NaN</td>\n",
              "      <td>0.000116</td>\n",
              "      <td>0.003576</td>\n",
              "      <td>0.158863</td>\n",
              "      <td>0.006882</td>\n",
              "      <td>-0.202499</td>\n",
              "      <td>0.560699</td>\n",
              "      <td>14.596632</td>\n",
              "      <td>3.235994</td>\n",
              "      <td>-5776.203617</td>\n",
              "      <td>-5368.512807</td>\n",
              "      <td>25</td>\n",
              "      <td>16</td>\n",
              "      <td>8</td>\n",
              "      <td>3</td>\n",
              "    </tr>\n",
              "    <tr>\n",
              "      <th>25</th>\n",
              "      <td>26</td>\n",
              "      <td>NaN</td>\n",
              "      <td>-0.000074</td>\n",
              "      <td>0.003734</td>\n",
              "      <td>0.158753</td>\n",
              "      <td>0.006715</td>\n",
              "      <td>-0.205824</td>\n",
              "      <td>0.564693</td>\n",
              "      <td>14.611446</td>\n",
              "      <td>3.190206</td>\n",
              "      <td>-5775.921433</td>\n",
              "      <td>-5351.702618</td>\n",
              "      <td>26</td>\n",
              "      <td>15</td>\n",
              "      <td>7</td>\n",
              "      <td>3</td>\n",
              "    </tr>\n",
              "    <tr>\n",
              "      <th>26</th>\n",
              "      <td>27</td>\n",
              "      <td>NaN</td>\n",
              "      <td>-0.000101</td>\n",
              "      <td>0.003805</td>\n",
              "      <td>0.158835</td>\n",
              "      <td>0.007000</td>\n",
              "      <td>-0.212616</td>\n",
              "      <td>0.548463</td>\n",
              "      <td>14.585922</td>\n",
              "      <td>3.245131</td>\n",
              "      <td>-5773.089926</td>\n",
              "      <td>-5332.343105</td>\n",
              "      <td>27</td>\n",
              "      <td>17</td>\n",
              "      <td>8</td>\n",
              "      <td>3</td>\n",
              "    </tr>\n",
              "    <tr>\n",
              "      <th>27</th>\n",
              "      <td>28</td>\n",
              "      <td>NaN</td>\n",
              "      <td>-0.000213</td>\n",
              "      <td>0.003754</td>\n",
              "      <td>0.158978</td>\n",
              "      <td>0.006746</td>\n",
              "      <td>-0.229274</td>\n",
              "      <td>0.552717</td>\n",
              "      <td>14.741986</td>\n",
              "      <td>3.159394</td>\n",
              "      <td>-5769.957953</td>\n",
              "      <td>-5312.683126</td>\n",
              "      <td>28</td>\n",
              "      <td>19</td>\n",
              "      <td>7</td>\n",
              "      <td>3</td>\n",
              "    </tr>\n",
              "    <tr>\n",
              "      <th>28</th>\n",
              "      <td>29</td>\n",
              "      <td>NaN</td>\n",
              "      <td>0.000210</td>\n",
              "      <td>0.003743</td>\n",
              "      <td>0.159077</td>\n",
              "      <td>0.007087</td>\n",
              "      <td>-0.185049</td>\n",
              "      <td>0.564902</td>\n",
              "      <td>14.517803</td>\n",
              "      <td>3.388221</td>\n",
              "      <td>-5773.756977</td>\n",
              "      <td>-5299.954144</td>\n",
              "      <td>29</td>\n",
              "      <td>18</td>\n",
              "      <td>8</td>\n",
              "      <td>3</td>\n",
              "    </tr>\n",
              "    <tr>\n",
              "      <th>29</th>\n",
              "      <td>30</td>\n",
              "      <td>NaN</td>\n",
              "      <td>0.000106</td>\n",
              "      <td>0.003768</td>\n",
              "      <td>0.159039</td>\n",
              "      <td>0.006951</td>\n",
              "      <td>-0.192236</td>\n",
              "      <td>0.549354</td>\n",
              "      <td>14.704605</td>\n",
              "      <td>3.193171</td>\n",
              "      <td>-5768.911871</td>\n",
              "      <td>-5278.581032</td>\n",
              "      <td>30</td>\n",
              "      <td>17</td>\n",
              "      <td>8</td>\n",
              "      <td>3</td>\n",
              "    </tr>\n",
              "  </tbody>\n",
              "</table>\n",
              "</div>"
            ],
            "text/plain": [
              "    Unnamed: 0  idxs      avg1  ...  weightscomp_1  weightscomp_5  weightscomp_10\n",
              "0            1   NaN  0.000223  ...              1              1               1\n",
              "1            2   NaN  0.000118  ...              2              2               2\n",
              "2            3   NaN  0.000107  ...              3              3               3\n",
              "3            4   NaN  0.000249  ...              4              4               3\n",
              "4            5   NaN  0.000137  ...              5              3               3\n",
              "5            6   NaN  0.000004  ...              6              4               3\n",
              "6            7   NaN  0.000157  ...              6              4               3\n",
              "7            8   NaN  0.000246  ...              6              4               3\n",
              "8            9   NaN  0.000024  ...              7              5               3\n",
              "9           10   NaN  0.000100  ...              8              5               4\n",
              "10          11   NaN -0.000090  ...              8              5               4\n",
              "11          12   NaN  0.000095  ...              8              5               4\n",
              "12          13   NaN  0.000025  ...              8              5               4\n",
              "13          14   NaN  0.000055  ...              8              6               4\n",
              "14          15   NaN  0.000041  ...              9              6               4\n",
              "15          16   NaN -0.000051  ...             10              6               4\n",
              "16          17   NaN  0.000164  ...             11              7               4\n",
              "17          18   NaN -0.000153  ...             12              7               4\n",
              "18          19   NaN  0.000248  ...             12              7               4\n",
              "19          20   NaN -0.000208  ...             11              6               4\n",
              "20          21   NaN -0.000084  ...             12              7               4\n",
              "21          22   NaN -0.000032  ...             13              9               5\n",
              "22          23   NaN -0.000009  ...             14              9               3\n",
              "23          24   NaN -0.000128  ...             15              8               3\n",
              "24          25   NaN  0.000116  ...             16              8               3\n",
              "25          26   NaN -0.000074  ...             15              7               3\n",
              "26          27   NaN -0.000101  ...             17              8               3\n",
              "27          28   NaN -0.000213  ...             19              7               3\n",
              "28          29   NaN  0.000210  ...             18              8               3\n",
              "29          30   NaN  0.000106  ...             17              8               3\n",
              "\n",
              "[30 rows x 16 columns]"
            ]
          },
          "metadata": {},
          "execution_count": 67
        }
      ]
    },
    {
      "cell_type": "code",
      "metadata": {
        "id": "i8kAz-Oz8CNP"
      },
      "source": [
        ""
      ],
      "execution_count": null,
      "outputs": []
    }
  ]
}